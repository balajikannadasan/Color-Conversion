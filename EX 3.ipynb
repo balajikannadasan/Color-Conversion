{
 "cells": [
  {
   "cell_type": "code",
   "execution_count": 1,
   "id": "3a9ced51",
   "metadata": {},
   "outputs": [],
   "source": [
    "import cv2\n",
    "lambo_image=cv2.imread('lambo.jpg')\n",
    "cv2.imshow('car',lambo_image)\n",
    "#BGR2HSV\n",
    "hsv_image=cv2.cvtColor(lambo_image,cv2.COLOR_BGR2HSV)\n",
    "cv2.imshow('BGR2HSV',hsv_image)\n",
    "#RGB2HSV\n",
    "hsv_image1=cv2.cvtColor(lambo_image,cv2.COLOR_RGB2HSV)\n",
    "cv2.imshow('RGB2HSV',hsv_image1)\n",
    "#BGR2GRAY\n",
    "gray_image=cv2.cvtColor(lambo_image,cv2.COLOR_BGR2GRAY)\n",
    "cv2.imshow('BGR2GRAY',gray_image)\n",
    "#RGB2GRAY\n",
    "gray_image1=cv2.cvtColor(lambo_image,cv2.COLOR_RGB2GRAY)\n",
    "cv2.imshow('RGB2GRAY',gray_image)\n",
    "cv2.waitKey(0)\n",
    "cv2.destroyAllWindows()\n"
   ]
  },
  {
   "cell_type": "code",
   "execution_count": 2,
   "id": "aa740d22",
   "metadata": {},
   "outputs": [],
   "source": [
    "import cv2\n",
    "hsv_image=cv2.imread('lambo.jpg')\n",
    "cv2.imshow('Original hsv image',hsv_image)\n",
    "#HSV2RGB\n",
    "rgb_image=cv2.cvtColor(hsv_image,cv2.COLOR_HSV2RGB)\n",
    "cv2.imshow('HSV 2 RGB',rgb_image)\n",
    "#HSV2BGR\n",
    "bgr_image=cv2.cvtColor(hsv_image,cv2.COLOR_HSV2BGR)\n",
    "cv2.imshow('HSV 2 BGR',bgr_image)\n",
    "cv2.waitKey(0)\n",
    "cv2.destroyAllWindows()\n"
   ]
  },
  {
   "cell_type": "code",
   "execution_count": 3,
   "id": "8742b580",
   "metadata": {},
   "outputs": [],
   "source": [
    "import cv2\n",
    "lam_image=cv2.imread('lambo.jpg')\n",
    "cv2.imshow('original image',lam_image)\n",
    "#RGB2YCrCb\n",
    "ycrcb_image=cv2.cvtColor(lam_image,cv2.COLOR_RGB2YCrCb)\n",
    "cv2.imshow('RGB 2 YCrCb',ycrcb_image)\n",
    "#BGR2YCrCb\n",
    "ycrcb_image1=cv2.cvtColor(lam_image,cv2.COLOR_BGR2YCrCb)\n",
    "cv2.imshow('BGR 2 YCrCb',ycrcb_image1)\n",
    "cv2.waitKey(0)\n",
    "cv2.destroyAllWindows()\n"
   ]
  },
  {
   "cell_type": "code",
   "execution_count": 4,
   "id": "9cb8cf64",
   "metadata": {},
   "outputs": [],
   "source": [
    "import cv2\n",
    "l_image=cv2.imread('lambo.jpg')\n",
    "blue= l_image[:,:,0]\n",
    "green= l_image[:,:,1]\n",
    "red= l_image[:,:,2]\n",
    "cv2.imshow('blue_image',blue)\n",
    "cv2.imshow('green_image',green)\n",
    "cv2.imshow('red_image',red)\n",
    "merge_image=cv2.merge((blue,green,red))\n",
    "cv2.imshow('merge',merge_image)\n",
    "cv2.waitKey(0)\n",
    "cv2.destroyAllWindows()"
   ]
  },
  {
   "cell_type": "code",
   "execution_count": 5,
   "id": "3cd9caab",
   "metadata": {},
   "outputs": [],
   "source": [
    "import cv2\n",
    "l_image=cv2.imread('lambo.jpg')\n",
    "hsv_image=cv2.cvtColor(l_image,cv2.COLOR_BGR2HSV)\n",
    "h,s,v=cv2.split(hsv_image)\n",
    "cv2.imshow('H',h)\n",
    "cv2.imshow('S',s)\n",
    "cv2.imshow('V',v)\n",
    "merge=cv2.merge((h,s,v))\n",
    "cv2.imshow('MERGE',merge)\n",
    "cv2.waitKey(0)\n",
    "cv2.destroyAllWindows()"
   ]
  },
  {
   "cell_type": "code",
   "execution_count": null,
   "id": "e86ed4f8",
   "metadata": {},
   "outputs": [],
   "source": []
  }
 ],
 "metadata": {
  "kernelspec": {
   "display_name": "Python 3 (ipykernel)",
   "language": "python",
   "name": "python3"
  },
  "language_info": {
   "codemirror_mode": {
    "name": "ipython",
    "version": 3
   },
   "file_extension": ".py",
   "mimetype": "text/x-python",
   "name": "python",
   "nbconvert_exporter": "python",
   "pygments_lexer": "ipython3",
   "version": "3.8.12"
  }
 },
 "nbformat": 4,
 "nbformat_minor": 5
}
